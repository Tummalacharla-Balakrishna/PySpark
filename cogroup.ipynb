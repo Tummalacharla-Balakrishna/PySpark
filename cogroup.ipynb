{
 "cells": [
  {
   "cell_type": "code",
   "execution_count": 1,
   "id": "4d7102f2",
   "metadata": {},
   "outputs": [],
   "source": [
    "from pyspark.sql import SparkSession"
   ]
  },
  {
   "cell_type": "code",
   "execution_count": 2,
   "id": "f1d2efa7",
   "metadata": {},
   "outputs": [],
   "source": [
    "spark = SparkSession.builder.appName('cogroup').getOrCreate()"
   ]
  },
  {
   "cell_type": "code",
   "execution_count": 15,
   "id": "27a60309",
   "metadata": {},
   "outputs": [
    {
     "data": {
      "text/plain": [
       "[('a',\n",
       "  (<pyspark.resultiterable.ResultIterable at 0x183b769fa00>,\n",
       "   <pyspark.resultiterable.ResultIterable at 0x183b7786040>)),\n",
       " ('b',\n",
       "  (<pyspark.resultiterable.ResultIterable at 0x183b77860a0>,\n",
       "   <pyspark.resultiterable.ResultIterable at 0x183b7786100>))]"
      ]
     },
     "execution_count": 15,
     "metadata": {},
     "output_type": "execute_result"
    }
   ],
   "source": [
    "rdd = spark.sparkContext.parallelize([('a',1),('b',2)])\n",
    "rdd2 = spark.sparkContext.parallelize([('a',2)])\n",
    "\n",
    "\"\"\"\n",
    "For each key k in self or other, \n",
    "return a resulting RDD that contains a tuple with \n",
    "the list of values for that key in self as well as other.\n",
    "\"\"\"\n",
    "\n",
    "# the return type of cogroup.collect is key and resultIterable \n",
    "rdd.cogroup(rdd2).collect()"
   ]
  },
  {
   "cell_type": "code",
   "execution_count": 13,
   "id": "64533192",
   "metadata": {},
   "outputs": [
    {
     "data": {
      "text/plain": [
       "[('a', ([1], [2])), ('b', ([2], []))]"
      ]
     },
     "execution_count": 13,
     "metadata": {},
     "output_type": "execute_result"
    }
   ],
   "source": [
    "# to get the reult from the result iterable we need to cast those data.\n",
    "[(x, tuple(map(list, y))) for x, y in sorted(list(rdd.cogroup(rdd2).collect()))]"
   ]
  }
 ],
 "metadata": {
  "kernelspec": {
   "display_name": "Python 3",
   "language": "python",
   "name": "python3"
  },
  "language_info": {
   "codemirror_mode": {
    "name": "ipython",
    "version": 3
   },
   "file_extension": ".py",
   "mimetype": "text/x-python",
   "name": "python",
   "nbconvert_exporter": "python",
   "pygments_lexer": "ipython3",
   "version": "3.8.8"
  }
 },
 "nbformat": 4,
 "nbformat_minor": 5
}
