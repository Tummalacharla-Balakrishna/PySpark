{
 "cells": [
  {
   "cell_type": "code",
   "execution_count": 1,
   "id": "5547000e",
   "metadata": {},
   "outputs": [],
   "source": [
    "from pyspark.sql import SparkSession"
   ]
  },
  {
   "cell_type": "code",
   "execution_count": 2,
   "id": "9ba7a44a",
   "metadata": {},
   "outputs": [],
   "source": [
    "spark = SparkSession.builder.appName('AggregateByKey').getOrCreate()"
   ]
  },
  {
   "cell_type": "code",
   "execution_count": 3,
   "id": "d6736033",
   "metadata": {},
   "outputs": [],
   "source": [
    "data = [('A',5),('B',2),('C',3),('D',1),('A',4),('B',3),('C',6),('D',4)]"
   ]
  },
  {
   "cell_type": "code",
   "execution_count": 7,
   "id": "e92cf4a8",
   "metadata": {},
   "outputs": [
    {
     "data": {
      "text/plain": [
       "[('A', (9, 2)), ('B', (5, 2)), ('C', (9, 2)), ('D', (5, 2))]"
      ]
     },
     "execution_count": 7,
     "metadata": {},
     "output_type": "execute_result"
    }
   ],
   "source": [
    "\"\"\"\n",
    "Aggregate the values of each key, using given combine functions \n",
    "and a neutral “zero value”. This function can return a different \n",
    "result type, U, than the type of the values in this RDD, V. Thus, \n",
    "we need one operation for merging a V into a U and one operation \n",
    "for merging two U’s, The former operation is used for merging values\n",
    "within a partition, and the latter is used for merging values between partitions. \n",
    "To avoid memory allocation, both of these functions are allowed to modify \n",
    "and return their first argument instead of creating a new U.\n",
    "\"\"\"\n",
    "\n",
    "rdd = spark.sparkContext.parallelize(data)\n",
    "result = rdd.aggregateByKey((0,0),lambda x,y : (x[0]+y,x[1]+1),lambda x,y:(x[0]+y[0],x[1]+y[1]) )\n",
    "result.collect()"
   ]
  }
 ],
 "metadata": {
  "kernelspec": {
   "display_name": "Python 3",
   "language": "python",
   "name": "python3"
  },
  "language_info": {
   "codemirror_mode": {
    "name": "ipython",
    "version": 3
   },
   "file_extension": ".py",
   "mimetype": "text/x-python",
   "name": "python",
   "nbconvert_exporter": "python",
   "pygments_lexer": "ipython3",
   "version": "3.8.8"
  }
 },
 "nbformat": 4,
 "nbformat_minor": 5
}
