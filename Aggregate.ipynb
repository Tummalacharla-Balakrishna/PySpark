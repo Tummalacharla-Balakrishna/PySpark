{
 "cells": [
  {
   "cell_type": "code",
   "execution_count": 1,
   "id": "2f93fd5c",
   "metadata": {},
   "outputs": [],
   "source": [
    "from pyspark.sql import SparkSession"
   ]
  },
  {
   "cell_type": "code",
   "execution_count": 2,
   "id": "d2abda37",
   "metadata": {},
   "outputs": [],
   "source": [
    "spark = SparkSession.builder.appName('Aggregate').getOrCreate()"
   ]
  },
  {
   "cell_type": "code",
   "execution_count": 8,
   "id": "dc57c8b8",
   "metadata": {},
   "outputs": [
    {
     "data": {
      "text/plain": [
       "(10, 4)"
      ]
     },
     "execution_count": 8,
     "metadata": {},
     "output_type": "execute_result"
    }
   ],
   "source": [
    "# for aggregation with in the partition\n",
    "seqOp = lambda x,y : (x[0]+y , x[1]+1)\n",
    "\n",
    "# aggregation with in multiple partitions\n",
    "combOp = lambda x,y : (x[0]+y[0] , x[1]+y[1])\n",
    "result = spark.sparkContext.parallelize([1,2,3,4]).aggregate((0,0),seqOp,combOp)\n",
    "result"
   ]
  }
 ],
 "metadata": {
  "kernelspec": {
   "display_name": "Python 3",
   "language": "python",
   "name": "python3"
  },
  "language_info": {
   "codemirror_mode": {
    "name": "ipython",
    "version": 3
   },
   "file_extension": ".py",
   "mimetype": "text/x-python",
   "name": "python",
   "nbconvert_exporter": "python",
   "pygments_lexer": "ipython3",
   "version": "3.8.8"
  }
 },
 "nbformat": 4,
 "nbformat_minor": 5
}
