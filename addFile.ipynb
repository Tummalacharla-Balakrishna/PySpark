{
 "cells": [
  {
   "cell_type": "code",
   "execution_count": 13,
   "id": "dc516745",
   "metadata": {},
   "outputs": [],
   "source": [
    "from pyspark.sql import SparkSession\n",
    "import os\n",
    "from pyspark import SparkFiles"
   ]
  },
  {
   "cell_type": "code",
   "execution_count": 3,
   "id": "472c5abe",
   "metadata": {},
   "outputs": [],
   "source": [
    "# creating the SparkSession Object\n",
    "# This is an entry point for the application\n",
    "\n",
    "spark = SparkSession.builder.appName('addFile').getOrCreate()"
   ]
  },
  {
   "cell_type": "code",
   "execution_count": 22,
   "id": "c6b83de7",
   "metadata": {},
   "outputs": [],
   "source": [
    "#creating the file named addFileExample.txt in the corresponding path\n",
    "# with mode as write\n",
    "path = os.path.join('C:/Users/balak/Downloads/spark/PySpark','addFileExample.txt')\n",
    "with open(path,'w') as textFile:\n",
    "    for i in range(100):\n",
    "        textFile.write(str(i)+'\\n')\n",
    "\n",
    "# adding the file to the specified path        \n",
    "spark.sparkContext.addFile(path)"
   ]
  },
  {
   "cell_type": "code",
   "execution_count": 25,
   "id": "dd2293dc",
   "metadata": {},
   "outputs": [
    {
     "name": "stdout",
     "output_type": "stream",
     "text": [
      "0 1 2 3 4 5 6 7 8 9 1 0 1 1 1 2 1 3 1 4 1 5 1 6 1 7 1 8 1 9 2 0 2 1 2 2 2 3 2 4 2 5 2 6 2 7 2 8 2 9 3 0 3 1 3 2 3 3 3 4 3 5 3 6 3 7 3 8 3 9 4 0 4 1 4 2 4 3 4 4 4 5 4 6 4 7 4 8 4 9 5 0 5 1 5 2 5 3 5 4 5 5 5 6 5 7 5 8 5 9 6 0 6 1 6 2 6 3 6 4 6 5 6 6 6 7 6 8 6 9 7 0 7 1 7 2 7 3 7 4 7 5 7 6 7 7 7 8 7 9 8 0 8 1 8 2 8 3 8 4 8 5 8 6 8 7 8 8 8 9 9 0 9 1 9 2 9 3 9 4 9 5 9 6 9 7 9 8 9 9 "
     ]
    }
   ],
   "source": [
    "# getting the file from the specified path using the name and for that\n",
    "# we have a mofule called SparkFiles in pyspark\n",
    "with open(SparkFiles.get('addFileExample.txt')) as file:\n",
    "    for i in file.readline():\n",
    "        print(i,end=' ')"
   ]
  }
 ],
 "metadata": {
  "kernelspec": {
   "display_name": "Python 3",
   "language": "python",
   "name": "python3"
  },
  "language_info": {
   "codemirror_mode": {
    "name": "ipython",
    "version": 3
   },
   "file_extension": ".py",
   "mimetype": "text/x-python",
   "name": "python",
   "nbconvert_exporter": "python",
   "pygments_lexer": "ipython3",
   "version": "3.8.8"
  }
 },
 "nbformat": 4,
 "nbformat_minor": 5
}
