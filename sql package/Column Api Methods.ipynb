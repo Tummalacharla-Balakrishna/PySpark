{
 "cells": [
  {
   "cell_type": "code",
   "execution_count": 1,
   "id": "3ea545bc",
   "metadata": {},
   "outputs": [],
   "source": [
    "from pyspark.sql import SparkSession"
   ]
  },
  {
   "cell_type": "code",
   "execution_count": 2,
   "id": "dbcfe089",
   "metadata": {},
   "outputs": [],
   "source": [
    "spark = SparkSession.builder.appName('Column APi Methods').getOrCreate()"
   ]
  },
  {
   "cell_type": "code",
   "execution_count": 31,
   "id": "c4cb0d6f",
   "metadata": {},
   "outputs": [
    {
     "name": "stdout",
     "output_type": "stream",
     "text": [
      "root\n",
      " |-- CustomerKey: string (nullable = true)\n",
      " |-- Prefix: string (nullable = true)\n",
      " |-- FirstName: string (nullable = true)\n",
      " |-- LastName: string (nullable = true)\n",
      " |-- BirthDate: date (nullable = true)\n",
      " |-- MaritalStatus: string (nullable = true)\n",
      " |-- Gender: string (nullable = true)\n",
      " |-- EmailAddress: string (nullable = true)\n",
      " |-- AnnualIncome: string (nullable = true)\n",
      " |-- EducationLevel: string (nullable = true)\n",
      " |-- Occupation: string (nullable = true)\n",
      " |-- HomeOwner: string (nullable = true)\n",
      "\n"
     ]
    }
   ],
   "source": [
    "from pyspark.sql.types import StructType,StructField,StringType,IntegerType,DateType\n",
    "\n",
    "schema = StructType([\n",
    "    StructField('CustomerKey',StringType(),True),\n",
    "    StructField('Prefix',StringType(),True),\n",
    "    StructField('FirstName',StringType(),True),\n",
    "    StructField('LastName',StringType(),True),\n",
    "    StructField('BirthDate',DateType(),True),\n",
    "    StructField('MaritalStatus',StringType(),True),\n",
    "    StructField('Gender',StringType(),True),\n",
    "    StructField('EmailAddress',StringType(),True),\n",
    "    StructField('AnnualIncome',StringType(),True),\n",
    "    StructField('EducationLevel',StringType(),True),\n",
    "    StructField('Occupation',StringType(),True),\n",
    "    StructField('HomeOwner',StringType(),True),\n",
    "])\n",
    "\n",
    "customers = spark.read.option('header','true').csv('customers.csv',schema = schema)\n",
    "customers.printSchema()"
   ]
  },
  {
   "cell_type": "code",
   "execution_count": 7,
   "id": "ad959130",
   "metadata": {},
   "outputs": [
    {
     "name": "stdout",
     "output_type": "stream",
     "text": [
      "+-----------+------+---------+--------+---------+-------------+------+--------------------+------------+-------------+--------------+------------+---------+\n",
      "|CustomerKey|Prefix|FirstName|LastName|BirthDate|MaritalStatus|Gender|        EmailAddress|AnnualIncome|TotalChildren|EducationLevel|  Occupation|HomeOwner|\n",
      "+-----------+------+---------+--------+---------+-------------+------+--------------------+------------+-------------+--------------+------------+---------+\n",
      "|      11000|   MR.|      JON|    YANG| 4/8/1966|            M|     M|jon24@adventure-w...|    $90,000 |            2|     Bachelors|Professional|        Y|\n",
      "|      11001|   MR.|   EUGENE|   HUANG|5/14/1965|            S|     M|eugene10@adventur...|    $60,000 |            3|     Bachelors|Professional|        N|\n",
      "|      11002|   MR.|    RUBEN|  TORRES|8/12/1965|            M|     M|ruben35@adventure...|    $60,000 |            3|     Bachelors|Professional|        Y|\n",
      "|      11003|   MS.|  CHRISTY|     ZHU|2/15/1968|            S|     F|christy12@adventu...|    $70,000 |            0|     Bachelors|Professional|        N|\n",
      "|      11004|  MRS.|ELIZABETH| JOHNSON| 8/8/1968|            S|     F|elizabeth5@advent...|    $80,000 |            5|     Bachelors|Professional|        Y|\n",
      "+-----------+------+---------+--------+---------+-------------+------+--------------------+------------+-------------+--------------+------------+---------+\n",
      "only showing top 5 rows\n",
      "\n"
     ]
    }
   ],
   "source": [
    "customers.show(5)"
   ]
  },
  {
   "cell_type": "code",
   "execution_count": 32,
   "id": "15028b4d",
   "metadata": {},
   "outputs": [
    {
     "name": "stdout",
     "output_type": "stream",
     "text": [
      "+---+\n",
      "|GEN|\n",
      "+---+\n",
      "|  M|\n",
      "|  M|\n",
      "+---+\n",
      "only showing top 2 rows\n",
      "\n"
     ]
    }
   ],
   "source": [
    "# Returns this column aliased with a new name or names \n",
    "# (in the case of expressions that return more than one column, such as explode)\n",
    "\n",
    "alias_column = customers.select(customers.Gender.alias('GEN'))\n",
    "alias_column.show(2)"
   ]
  },
  {
   "cell_type": "code",
   "execution_count": 33,
   "id": "682f249a",
   "metadata": {},
   "outputs": [
    {
     "name": "stdout",
     "output_type": "stream",
     "text": [
      "+---------+\n",
      "|FirstName|\n",
      "+---------+\n",
      "|    AARON|\n",
      "|    AARON|\n",
      "|    AARON|\n",
      "|    AARON|\n",
      "+---------+\n",
      "only showing top 4 rows\n",
      "\n"
     ]
    }
   ],
   "source": [
    "customers.select(customers.FirstName).orderBy(customers.FirstName.asc()).show(4)"
   ]
  },
  {
   "cell_type": "code",
   "execution_count": 22,
   "id": "7bd0ab0c",
   "metadata": {},
   "outputs": [
    {
     "name": "stdout",
     "output_type": "stream",
     "text": [
      "root\n",
      " |-- BirthDate: date (nullable = true)\n",
      "\n"
     ]
    }
   ],
   "source": [
    "customers.select(customers.BirthDate.cast('date')).printSchema()"
   ]
  }
 ],
 "metadata": {
  "kernelspec": {
   "display_name": "Python 3",
   "language": "python",
   "name": "python3"
  },
  "language_info": {
   "codemirror_mode": {
    "name": "ipython",
    "version": 3
   },
   "file_extension": ".py",
   "mimetype": "text/x-python",
   "name": "python",
   "nbconvert_exporter": "python",
   "pygments_lexer": "ipython3",
   "version": "3.8.8"
  }
 },
 "nbformat": 4,
 "nbformat_minor": 5
}
