{
 "cells": [
  {
   "cell_type": "code",
   "execution_count": 1,
   "id": "99dcd288",
   "metadata": {},
   "outputs": [],
   "source": [
    "from pyspark.sql import SparkSession"
   ]
  },
  {
   "cell_type": "code",
   "execution_count": 2,
   "id": "6120a300",
   "metadata": {},
   "outputs": [],
   "source": [
    "spark = SparkSession.builder.appName('sql').getOrCreate()"
   ]
  },
  {
   "cell_type": "code",
   "execution_count": 7,
   "id": "f2581663",
   "metadata": {},
   "outputs": [],
   "source": [
    "cars = spark.read.option('header','true').csv('cars.csv')"
   ]
  },
  {
   "cell_type": "code",
   "execution_count": 8,
   "id": "2eea62ff",
   "metadata": {},
   "outputs": [
    {
     "data": {
      "text/plain": [
       "[Row(Car='Chevrolet Chevelle Malibu', MPG='18', Cylinders='8', Displacement='307', Horsepower='130', Weight='3504', Acceleration='12', Model='70', Origin='US'),\n",
       " Row(Car='Buick Skylark 320', MPG='15', Cylinders='8', Displacement='350', Horsepower='165', Weight='3693', Acceleration='11.5', Model='70', Origin='US'),\n",
       " Row(Car='Plymouth Satellite', MPG='18', Cylinders='8', Displacement='318', Horsepower='150', Weight='3436', Acceleration='11', Model='70', Origin='US'),\n",
       " Row(Car='AMC Rebel SST', MPG='16', Cylinders='8', Displacement='304', Horsepower='150', Weight='3433', Acceleration='12', Model='70', Origin='US'),\n",
       " Row(Car='Ford Torino', MPG='17', Cylinders='8', Displacement='302', Horsepower='140', Weight='3449', Acceleration='10.5', Model='70', Origin='US')]"
      ]
     },
     "execution_count": 8,
     "metadata": {},
     "output_type": "execute_result"
    }
   ],
   "source": [
    "cars.createOrReplaceTempView('carstable')\n",
    "\n",
    "# To get data from the table\n",
    "df2 = spark.sql(\"select * from carstable\")\n",
    "df2.take(5)"
   ]
  },
  {
   "cell_type": "code",
   "execution_count": 9,
   "id": "9dafeaff",
   "metadata": {},
   "outputs": [
    {
     "data": {
      "text/plain": [
       "['Car',\n",
       " 'MPG',\n",
       " 'Cylinders',\n",
       " 'Displacement',\n",
       " 'Horsepower',\n",
       " 'Weight',\n",
       " 'Acceleration',\n",
       " 'Model',\n",
       " 'Origin']"
      ]
     },
     "execution_count": 9,
     "metadata": {},
     "output_type": "execute_result"
    }
   ],
   "source": [
    "cars.columns"
   ]
  }
 ],
 "metadata": {
  "kernelspec": {
   "display_name": "Python 3",
   "language": "python",
   "name": "python3"
  },
  "language_info": {
   "codemirror_mode": {
    "name": "ipython",
    "version": 3
   },
   "file_extension": ".py",
   "mimetype": "text/x-python",
   "name": "python",
   "nbconvert_exporter": "python",
   "pygments_lexer": "ipython3",
   "version": "3.8.8"
  }
 },
 "nbformat": 4,
 "nbformat_minor": 5
}
