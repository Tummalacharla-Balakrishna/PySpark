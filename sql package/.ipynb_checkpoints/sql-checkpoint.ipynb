{
 "cells": [
  {
   "cell_type": "code",
   "execution_count": 1,
   "id": "1f638af0",
   "metadata": {},
   "outputs": [],
   "source": [
    "from pyspark.sql import SparkSession"
   ]
  },
  {
   "cell_type": "code",
   "execution_count": 2,
   "id": "7e26f635",
   "metadata": {},
   "outputs": [],
   "source": [
    "spark = SparkSession.builder.appName('sql').getOrCreate()"
   ]
  },
  {
   "cell_type": "code",
   "execution_count": 3,
   "id": "c33d77ed",
   "metadata": {},
   "outputs": [],
   "source": [
    "cars = spark.read.csv('cars.csv')"
   ]
  },
  {
   "cell_type": "code",
   "execution_count": 7,
   "id": "a4e5c22d",
   "metadata": {},
   "outputs": [
    {
     "data": {
      "text/plain": [
       "[Row(_c0='Car', _c1='MPG', _c2='Cylinders', _c3='Displacement', _c4='Horsepower', _c5='Weight', _c6='Acceleration', _c7='Model', _c8='Origin'),\n",
       " Row(_c0='Chevrolet Chevelle Malibu', _c1='18', _c2='8', _c3='307', _c4='130', _c5='3504', _c6='12', _c7='70', _c8='US'),\n",
       " Row(_c0='Buick Skylark 320', _c1='15', _c2='8', _c3='350', _c4='165', _c5='3693', _c6='11.5', _c7='70', _c8='US'),\n",
       " Row(_c0='Plymouth Satellite', _c1='18', _c2='8', _c3='318', _c4='150', _c5='3436', _c6='11', _c7='70', _c8='US'),\n",
       " Row(_c0='AMC Rebel SST', _c1='16', _c2='8', _c3='304', _c4='150', _c5='3433', _c6='12', _c7='70', _c8='US')]"
      ]
     },
     "execution_count": 7,
     "metadata": {},
     "output_type": "execute_result"
    }
   ],
   "source": [
    "cars.createOrReplaceTempView('carstable')\n",
    "\n",
    "# To get data from the table\n",
    "df2 = spark.sql(\"select * from carstable\")\n",
    "df2.take(5)"
   ]
  }
 ],
 "metadata": {
  "kernelspec": {
   "display_name": "Python 3",
   "language": "python",
   "name": "python3"
  },
  "language_info": {
   "codemirror_mode": {
    "name": "ipython",
    "version": 3
   },
   "file_extension": ".py",
   "mimetype": "text/x-python",
   "name": "python",
   "nbconvert_exporter": "python",
   "pygments_lexer": "ipython3",
   "version": "3.8.8"
  }
 },
 "nbformat": 4,
 "nbformat_minor": 5
}
