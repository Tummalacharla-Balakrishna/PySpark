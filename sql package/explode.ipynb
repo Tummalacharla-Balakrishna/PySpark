{
 "cells": [
  {
   "cell_type": "code",
   "execution_count": 2,
   "id": "b3c84dc2",
   "metadata": {},
   "outputs": [],
   "source": [
    "from pyspark.sql import SparkSession"
   ]
  },
  {
   "cell_type": "code",
   "execution_count": 4,
   "id": "0293992d",
   "metadata": {},
   "outputs": [],
   "source": [
    "spark = SparkSession.builder.appName(\"explode\").getOrCreate()"
   ]
  },
  {
   "cell_type": "code",
   "execution_count": 23,
   "id": "0a01904e",
   "metadata": {},
   "outputs": [
    {
     "data": {
      "text/plain": [
       "[Row(col='hello'), Row(col='how'), Row(col='are'), Row(col='you')]"
      ]
     },
     "execution_count": 23,
     "metadata": {},
     "output_type": "execute_result"
    }
   ],
   "source": [
    "from pyspark.sql.functions import split,explode\n",
    "from pyspark.sql.types import StructField,StringType,StructType\n",
    "\n",
    "schema = StructType([\n",
    "    StructField('value',StringType(),True)\n",
    "])\n",
    "\n",
    "df = spark.createDataFrame([('hello how are you',\"how are yu\")],['word'])\n",
    "df.select(explode(split(df.word,\" \"))).collect()"
   ]
  }
 ],
 "metadata": {
  "kernelspec": {
   "display_name": "Python 3",
   "language": "python",
   "name": "python3"
  },
  "language_info": {
   "codemirror_mode": {
    "name": "ipython",
    "version": 3
   },
   "file_extension": ".py",
   "mimetype": "text/x-python",
   "name": "python",
   "nbconvert_exporter": "python",
   "pygments_lexer": "ipython3",
   "version": "3.8.8"
  }
 },
 "nbformat": 4,
 "nbformat_minor": 5
}
