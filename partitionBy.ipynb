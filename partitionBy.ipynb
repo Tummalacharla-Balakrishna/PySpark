{
 "cells": [
  {
   "cell_type": "code",
   "execution_count": 1,
   "id": "2f6fc6c6",
   "metadata": {},
   "outputs": [],
   "source": [
    "from pyspark.sql import SparkSession"
   ]
  },
  {
   "cell_type": "code",
   "execution_count": 2,
   "id": "569404bf",
   "metadata": {},
   "outputs": [],
   "source": [
    "spark = SparkSession.builder.appName('partitionBy').getOrCreate()"
   ]
  },
  {
   "cell_type": "code",
   "execution_count": 3,
   "id": "d6867240",
   "metadata": {},
   "outputs": [],
   "source": [
    "data = [(\"USA\",2),(\"USA\",2),(\"USA\",2),(\"UK\",2),(\"UK\",2),(\"UK\",2),(\"India\",3),(\"India\",3),(\"India\",3)]"
   ]
  },
  {
   "cell_type": "code",
   "execution_count": 17,
   "id": "4632589c",
   "metadata": {},
   "outputs": [
    {
     "data": {
      "text/plain": [
       "[[('USA', 2),\n",
       "  ('USA', 2),\n",
       "  ('USA', 2),\n",
       "  ('India', 3),\n",
       "  ('India', 3),\n",
       "  ('India', 3)],\n",
       " [('UK', 2), ('UK', 2), ('UK', 2)]]"
      ]
     },
     "execution_count": 17,
     "metadata": {},
     "output_type": "execute_result"
    }
   ],
   "source": [
    "rdd = spark.sparkContext.parallelize(data)\n",
    "# partitionBy partitions the data to that many partitions\n",
    "# glom helps to make each partition into tuple.\n",
    "rdd.partitionBy(2).glom().collect()\n",
    "# rdd.getpartition()"
   ]
  }
 ],
 "metadata": {
  "kernelspec": {
   "display_name": "Python 3",
   "language": "python",
   "name": "python3"
  },
  "language_info": {
   "codemirror_mode": {
    "name": "ipython",
    "version": 3
   },
   "file_extension": ".py",
   "mimetype": "text/x-python",
   "name": "python",
   "nbconvert_exporter": "python",
   "pygments_lexer": "ipython3",
   "version": "3.8.8"
  }
 },
 "nbformat": 4,
 "nbformat_minor": 5
}
