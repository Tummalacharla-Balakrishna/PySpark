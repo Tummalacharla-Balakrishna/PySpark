{
 "cells": [
  {
   "cell_type": "code",
   "execution_count": 9,
   "id": "3e89d641",
   "metadata": {},
   "outputs": [],
   "source": [
    "from pyspark.sql import SparkSession\n",
    "from tempfile import NamedTemporaryFile"
   ]
  },
  {
   "cell_type": "code",
   "execution_count": 3,
   "id": "fc3afc35",
   "metadata": {},
   "outputs": [],
   "source": [
    "spark = SparkSession.builder.appName('Pickle File').getOrCreate()"
   ]
  },
  {
   "cell_type": "code",
   "execution_count": 13,
   "id": "26f7a64f",
   "metadata": {},
   "outputs": [
    {
     "data": {
      "text/plain": [
       "['1', '2', 'rdd', 'spark']"
      ]
     },
     "execution_count": 13,
     "metadata": {},
     "output_type": "execute_result"
    }
   ],
   "source": [
    "# Save this RDD as a SequenceFile of serialized objects.\n",
    "# The serializer used is pyspark.serializers.PickleSerializer, default batch size is 10.\n",
    "\n",
    "tempFile = NamedTemporaryFile(delete=True)\n",
    "tempFile.close()\n",
    "\n",
    "spark.sparkContext.parallelize([1,2,'rdd','spark']).saveAsPickleFile(tempFile.name)\n",
    "\n",
    "#map of str converts the data to string and then sort data\n",
    "# pickleFile :- Load an RDD previously saved using RDD.saveAsPickleFile() method.\n",
    "sorted(spark.sparkContext.pickleFile(tempFile.name).map(str).collect())"
   ]
  }
 ],
 "metadata": {
  "kernelspec": {
   "display_name": "Python 3",
   "language": "python",
   "name": "python3"
  },
  "language_info": {
   "codemirror_mode": {
    "name": "ipython",
    "version": 3
   },
   "file_extension": ".py",
   "mimetype": "text/x-python",
   "name": "python",
   "nbconvert_exporter": "python",
   "pygments_lexer": "ipython3",
   "version": "3.8.8"
  }
 },
 "nbformat": 4,
 "nbformat_minor": 5
}
