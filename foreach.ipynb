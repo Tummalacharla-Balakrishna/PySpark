{
 "cells": [
  {
   "cell_type": "code",
   "execution_count": 19,
   "id": "832c9596",
   "metadata": {},
   "outputs": [],
   "source": [
    "from pyspark.sql import SparkSession\n",
    "from IPython.core.interactiveshell import InteractiveShell\n",
    "InteractiveShell.ast_node_interactivity = 'all'"
   ]
  },
  {
   "cell_type": "code",
   "execution_count": 20,
   "id": "b689ff5b",
   "metadata": {},
   "outputs": [],
   "source": [
    "spark = SparkSession.builder.appName('foreach').getOrCreate()"
   ]
  },
  {
   "cell_type": "code",
   "execution_count": null,
   "id": "0f488620",
   "metadata": {},
   "outputs": [],
   "source": [
    "lst = [1]\n",
    "def f(x):\n",
    "\n",
    "    lst.append(x)\n",
    "\n",
    "spark.sparkContext.parallelize([1,2,3,4,5,6,7]).foreach(f)\n"
   ]
  },
  {
   "cell_type": "code",
   "execution_count": null,
   "id": "0936dcd7",
   "metadata": {},
   "outputs": [],
   "source": []
  }
 ],
 "metadata": {
  "kernelspec": {
   "display_name": "Python 3",
   "language": "python",
   "name": "python3"
  },
  "language_info": {
   "codemirror_mode": {
    "name": "ipython",
    "version": 3
   },
   "file_extension": ".py",
   "mimetype": "text/x-python",
   "name": "python",
   "nbconvert_exporter": "python",
   "pygments_lexer": "ipython3",
   "version": "3.8.8"
  }
 },
 "nbformat": 4,
 "nbformat_minor": 5
}
